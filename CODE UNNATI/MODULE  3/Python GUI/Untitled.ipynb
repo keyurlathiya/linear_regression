{
 "cells": [
  {
   "cell_type": "code",
   "execution_count": 1,
   "id": "afdd453d",
   "metadata": {},
   "outputs": [],
   "source": [
    "import tkinter as tk\n",
    "\n"
   ]
  },
  {
   "cell_type": "code",
   "execution_count": 17,
   "id": "315b0b6a",
   "metadata": {},
   "outputs": [],
   "source": [
    "window = tk.Tk()\n",
    "window.title('Pacific Under Arrested')\n",
    "\n",
    "label = tk.Label(window,text ='Hi i am bhano',font=(\"Arial Bold\",40)).pack()\n",
    "window.mainloop()"
   ]
  },
  {
   "cell_type": "code",
   "execution_count": 90,
   "id": "4f0058a0",
   "metadata": {},
   "outputs": [],
   "source": [
    "window = tk.Tk()\n",
    "window.title('Pacific Under Arrested')\n",
    "\n",
    "label = tk.Label(window,text ='Hi i am bhano',font=(\"Arial Bold\",40)).grid(column = 0,row=0)\n",
    "\n",
    "window.mainloop()"
   ]
  },
  {
   "cell_type": "code",
   "execution_count": 23,
   "id": "54ac4bb0",
   "metadata": {},
   "outputs": [],
   "source": [
    "window = tk.Tk()\n",
    "window.title('Pacific Under Arrested')\n",
    "\n",
    "button = tk.Button(window,text ='Hi i am bhano',font=(\"Arial Bold\",40)).pack()\n",
    "\n",
    "window.mainloop()"
   ]
  },
  {
   "cell_type": "code",
   "execution_count": 27,
   "id": "ea0fa356",
   "metadata": {},
   "outputs": [],
   "source": [
    "window = tk.Tk()\n",
    "window.title('Pacific Under Arrested')\n",
    "\n",
    "button = tk.Button(window,text ='Hi i am bhano',font=(\"Arial Bold\",40),bg = 'black',fg = 'black').pack()\n",
    "\n",
    "window.mainloop()"
   ]
  },
  {
   "cell_type": "code",
   "execution_count": 89,
   "id": "9dc0e5c9",
   "metadata": {},
   "outputs": [],
   "source": [
    "window = tk.Tk()\n",
    "window.title('Pacific Under Arrested')\n",
    "\n",
    "def sms():\n",
    "    label = tk.Label(window,text ='Hi i am bhano',font=(\"Arial Bold\",40)).pack()\n",
    "button = tk.Button(window,text ='Enter',font=(\"Arial Bold\",40),command = sms).pack()\n",
    "\n",
    "window.mainloop()"
   ]
  },
  {
   "cell_type": "code",
   "execution_count": 87,
   "id": "c45fb6ed",
   "metadata": {},
   "outputs": [],
   "source": [
    "from tkinter import ttk\n",
    "window = tk.Tk()\n",
    "window.title('Pacific Under Arrested')\n",
    "drop_box = ttk.Combobox(window,font=(\"Arial Bold\",40))\n",
    "drop_box['values']=(os.listdir())\n",
    "drop_box.grid(column =0,row = 0)\n",
    "\n",
    "window.mainloop()"
   ]
  },
  {
   "cell_type": "code",
   "execution_count": 56,
   "id": "1bf58dfa",
   "metadata": {},
   "outputs": [
    {
     "data": {
      "text/plain": [
       "['.ipynb_checkpoints', 'Untitled.ipynb']"
      ]
     },
     "execution_count": 56,
     "metadata": {},
     "output_type": "execute_result"
    }
   ],
   "source": [
    "import os\n",
    "\n",
    "os.listdir()"
   ]
  },
  {
   "cell_type": "code",
   "execution_count": 88,
   "id": "91d7c173",
   "metadata": {},
   "outputs": [],
   "source": [
    "from tkinter import ttk\n",
    "window = tk.Tk()\n",
    "window.title('Pacific Under Arrested')\n",
    "chk_status =tk.BooleanVar()\n",
    "chk_status.set(True)\n",
    "chk = ttk.Checkbutton(window,text ='log in',var = chk_status).pack()\n",
    "window.mainloop()\n"
   ]
  },
  {
   "cell_type": "code",
   "execution_count": 83,
   "id": "c1fdeb53",
   "metadata": {},
   "outputs": [
    {
     "ename": "AttributeError",
     "evalue": "'str' object has no attribute 'pack'",
     "output_type": "error",
     "traceback": [
      "\u001b[1;31m---------------------------------------------------------------------------\u001b[0m",
      "\u001b[1;31mAttributeError\u001b[0m                            Traceback (most recent call last)",
      "Input \u001b[1;32mIn [83]\u001b[0m, in \u001b[0;36m<cell line: 6>\u001b[1;34m()\u001b[0m\n\u001b[0;32m      3\u001b[0m window \u001b[38;5;241m=\u001b[39m tk\u001b[38;5;241m.\u001b[39mTk()\n\u001b[0;32m      4\u001b[0m window\u001b[38;5;241m.\u001b[39mtitle(\u001b[38;5;124m'\u001b[39m\u001b[38;5;124mPacific Under Arrested\u001b[39m\u001b[38;5;124m'\u001b[39m)\n\u001b[1;32m----> 6\u001b[0m \u001b[43mmessagebox\u001b[49m\u001b[38;5;241;43m.\u001b[39;49m\u001b[43mshowinfo\u001b[49m\u001b[43m(\u001b[49m\u001b[38;5;124;43m\"\u001b[39;49m\u001b[38;5;124;43mmessage content\u001b[39;49m\u001b[38;5;124;43m\"\u001b[39;49m\u001b[43m,\u001b[49m\u001b[38;5;124;43m\"\u001b[39;49m\u001b[38;5;124;43mfile not found\u001b[39;49m\u001b[38;5;124;43m\"\u001b[39;49m\u001b[43m)\u001b[49m\u001b[38;5;241;43m.\u001b[39;49m\u001b[43mpack\u001b[49m()\n\u001b[0;32m      8\u001b[0m window\u001b[38;5;241m.\u001b[39mmainloop()\n",
      "\u001b[1;31mAttributeError\u001b[0m: 'str' object has no attribute 'pack'"
     ]
    }
   ],
   "source": [
    "from tkinter import ttk\n",
    "from tkinter import messagebox\n",
    "window = tk.Tk()\n",
    "window.title('Pacific Under Arrested')\n",
    "\n",
    "messagebox.showinfo(\"message content\",\"file not found\").pack()\n",
    "\n",
    "window.mainloop()\n"
   ]
  },
  {
   "cell_type": "code",
   "execution_count": 82,
   "id": "daa50071",
   "metadata": {},
   "outputs": [
    {
     "name": "stderr",
     "output_type": "stream",
     "text": [
      "Exception in Tkinter callback\n",
      "Traceback (most recent call last):\n",
      "  File \"C:\\Users\\SAP\\anaconda3\\lib\\tkinter\\__init__.py\", line 1892, in __call__\n",
      "    return self.func(*args)\n",
      "  File \"C:\\Users\\SAP\\AppData\\Local\\Temp\\ipykernel_11760\\1101150955.py\", line 5, in sms\n",
      "    label=tk.Label(messagebox.showinfo(\"message content\",\"file not found\")).pack()\n",
      "  File \"C:\\Users\\SAP\\anaconda3\\lib\\tkinter\\__init__.py\", line 3148, in __init__\n",
      "    Widget.__init__(self, master, 'label', cnf, kw)\n",
      "  File \"C:\\Users\\SAP\\anaconda3\\lib\\tkinter\\__init__.py\", line 2566, in __init__\n",
      "    BaseWidget._setup(self, master, cnf)\n",
      "  File \"C:\\Users\\SAP\\anaconda3\\lib\\tkinter\\__init__.py\", line 2535, in _setup\n",
      "    self.tk = master.tk\n",
      "AttributeError: 'str' object has no attribute 'tk'\n"
     ]
    }
   ],
   "source": [
    "window = tk.Tk()\n",
    "window.title('Pacific Under Arrested')\n",
    "\n",
    "def sms():\n",
    "    label=tk.Label(messagebox.showinfo(\"message content\",\"file not found\")).pack()\n",
    "button = tk.Button(window,text ='Enter',font=(\"Arial Bold\",40),command = sms).pack()\n",
    " \n",
    "window.mainloop()"
   ]
  },
  {
   "cell_type": "code",
   "execution_count": 91,
   "id": "fcdfd5ac",
   "metadata": {},
   "outputs": [],
   "source": [
    "from tkinter import ttk\n",
    "window = tk.Tk()\n",
    "window.title(\"Pacific no Found\")\n",
    "\n",
    "text = tk.Entry(window,width = 40).pack()\n",
    "\n",
    "window.mainloop()"
   ]
  },
  {
   "cell_type": "code",
   "execution_count": 135,
   "id": "78c2f402",
   "metadata": {},
   "outputs": [],
   "source": [
    "from tkinter import ttk\n",
    "window = tk.Tk()\n",
    "window.title('Pacific Under Arrested')\n",
    "drop_box = ttk.Combobox(window,font=(\"Arial Bold\",40))\n",
    "\n",
    "label = tk.Label(window,text='Username',font=(\"Arial Bold\",10)).grid(column=0,row=0)\n",
    "text=tk.Entry(window,width = 40).grid(column=1,row=0)\n",
    "\n",
    "label = tk.Label(window,text='password',font=(\"Arial Bold\",40)).grid(column=0,row=1)\n",
    "text=tk.Entry(window,width = 40).grid(column=1,row=1)\n",
    "\n",
    "chk_status =tk.BooleanVar()\n",
    "chk_status.set(False)\n",
    "chk = ttk.Checkbutton(window,text ='log in',var = chk_status).grid(columnspan=2,row=2)\n",
    "\n",
    "window.mainloop()"
   ]
  },
  {
   "cell_type": "code",
   "execution_count": 158,
   "id": "203a0f91",
   "metadata": {},
   "outputs": [],
   "source": [
    "from tkinter import ttk\n",
    "window = tk.Tk()\n",
    "window.title('Pacific Under Arrested')\n",
    "\n",
    "spin = tk.Spinbox(window,width = 10 , from_=10, to= 11).pack()\n",
    "\n",
    "window.mainloop()\n"
   ]
  },
  {
   "cell_type": "code",
   "execution_count": 160,
   "id": "79b21fd3",
   "metadata": {},
   "outputs": [],
   "source": [
    "from tkinter import ttk\n",
    "window = tk.Tk()\n",
    "window.title('Pacific Under Arrested')\n",
    "\n",
    "radio= tk.Radiobutton(window,text = 'Batch 1', value =1).pack()\n",
    "radio1= tk.Radiobutton(window,text = 'Batch 2' , value= 2).pack()\n",
    "\n",
    "window.mainloop()\n"
   ]
  },
  {
   "cell_type": "code",
   "execution_count": 165,
   "id": "ccb9955c",
   "metadata": {},
   "outputs": [],
   "source": [
    "from tkinter import ttk\n",
    "window = tk.Tk()\n",
    "window.geometry(\"1200x200\")\n",
    "window.configure(bg='black')\n",
    "window.title('Pacific Under Arrested')\n",
    "\n",
    "radio= tk.Radiobutton(window,text = 'Batch 1', value =1).pack()\n",
    "radio1= tk.Radiobutton(window,text = 'Batch 2' , value= 2).pack()\n",
    "\n",
    "window.mainloop()\n"
   ]
  },
  {
   "cell_type": "code",
   "execution_count": null,
   "id": "6a0cbcd4",
   "metadata": {},
   "outputs": [],
   "source": []
  }
 ],
 "metadata": {
  "kernelspec": {
   "display_name": "Python 3 (ipykernel)",
   "language": "python",
   "name": "python3"
  },
  "language_info": {
   "codemirror_mode": {
    "name": "ipython",
    "version": 3
   },
   "file_extension": ".py",
   "mimetype": "text/x-python",
   "name": "python",
   "nbconvert_exporter": "python",
   "pygments_lexer": "ipython3",
   "version": "3.9.12"
  }
 },
 "nbformat": 4,
 "nbformat_minor": 5
}
